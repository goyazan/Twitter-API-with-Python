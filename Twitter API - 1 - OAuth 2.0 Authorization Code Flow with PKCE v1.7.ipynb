{
 "cells": [
  {
   "cell_type": "markdown",
   "id": "f40fe237",
   "metadata": {},
   "source": [
    "The official Twitter API documentation on the authorization endpoint: <br>\n",
    "*https://developer.twitter.com/en/docs/authentication/oauth-2-0/user-access-token*"
   ]
  },
  {
   "cell_type": "markdown",
   "id": "9529ab4b",
   "metadata": {},
   "source": [
    "## 1. Import Modules"
   ]
  },
  {
   "cell_type": "code",
   "execution_count": null,
   "id": "2bdc0f12",
   "metadata": {},
   "outputs": [],
   "source": [
    "import os\n",
    "from dotenv import load_dotenv\n",
    "import base64\n",
    "import requests as r\n",
    "import json\n",
    "import re"
   ]
  },
  {
   "cell_type": "code",
   "execution_count": null,
   "id": "4dac9208",
   "metadata": {},
   "outputs": [],
   "source": [
    "# reading the contents of the .env file stored in the notebook's folder\n",
    "load_dotenv()"
   ]
  },
  {
   "cell_type": "markdown",
   "id": "240ac053",
   "metadata": {},
   "source": [
    "## 2. Assigning the URLs to variables"
   ]
  },
  {
   "cell_type": "code",
   "execution_count": null,
   "id": "d6408397",
   "metadata": {},
   "outputs": [],
   "source": [
    "base_url = 'https://api.twitter.com'\n",
    "redirect_uri = 'https://www.linkedin.com/in/faridvaliyev/'\n",
    "auth_base_url = 'https://twitter.com/i/oauth2/authorize?'\n",
    "token_url = 'https://api.twitter.com/2/oauth2/token'\n",
    "refresh_token_url = 'https://api.twitter.com/2/oauth2/token'"
   ]
  },
  {
   "cell_type": "markdown",
   "id": "2f488825",
   "metadata": {},
   "source": [
    "## 3. Client ID and Client Secret Imported from the .env File"
   ]
  },
  {
   "cell_type": "code",
   "execution_count": null,
   "id": "4ac8381a",
   "metadata": {},
   "outputs": [],
   "source": [
    "client_id = os.getenv('client_id')\n",
    "client_secret = os.getenv('client_secret')\n",
    "\n",
    "client_id_secret = client_id + ':' + client_secret\n",
    "client_id_secret = client_id_secret.encode(\"ascii\")\n",
    "client_id_secret = 'Basic ' + base64.b64encode(client_id_secret).decode(\"ascii\")"
   ]
  },
  {
   "cell_type": "markdown",
   "id": "bb2a430e",
   "metadata": {},
   "source": [
    "## 4. Request Parameters"
   ]
  },
  {
   "cell_type": "code",
   "execution_count": null,
   "id": "a31e875d",
   "metadata": {},
   "outputs": [],
   "source": [
    "response_type = 'code'\n",
    "scope = 'tweet.read%20tweet.write%20tweet.moderate.write%20users.read%20follows.read%20follows.write%20offline.access%20space.read%20mute.read%20mute.write%20like.read%20like.write%20list.read%20list.write%20block.read%20block.write%20bookmark.read%20bookmark.write'\n",
    "state = 'state'\n",
    "code_challenge = 'challenge'\n",
    "code_challenge_method = 'plain'\n",
    "\n",
    "grant_type = 'authorization_code'\n",
    "code_verifier = 'challenge'"
   ]
  },
  {
   "cell_type": "markdown",
   "id": "8903a4f5",
   "metadata": {},
   "source": [
    "## 5. Buildign the Authorization URL"
   ]
  },
  {
   "cell_type": "code",
   "execution_count": null,
   "id": "7516ea57",
   "metadata": {
    "scrolled": false
   },
   "outputs": [],
   "source": [
    "authorization_url = auth_base_url + 'response_type=' + response_type + '&client_id=' + client_id + '&redirect_uri=' + redirect_uri + '&scope=' + scope + '&state=' + state + '&code_challenge=' + code_challenge + '&code_challenge_method=' + code_challenge_method                         \n",
    "print(\"Follow the link to get the authorization code:\", authorization_url)"
   ]
  },
  {
   "cell_type": "markdown",
   "id": "371404ae",
   "metadata": {},
   "source": [
    "## 6. Extracting the Authorization Code from the Authorization URL"
   ]
  },
  {
   "cell_type": "code",
   "execution_count": null,
   "id": "3745907b",
   "metadata": {
    "scrolled": true
   },
   "outputs": [],
   "source": [
    "# assign the response url into a variable by inserting it into the input field below\n",
    "authorization_response = 'https://www.linkedin.com/in/faridvaliyev/?state=state&code=U3NGbmVtUDlBTVN0UUVvNlhjNUkxOFpGV0xWTHkxX3Y5VVluTk1yU2E5MEpUOjE2NTcwMjg2ODc4ODc6MToxOmFjOjE'"
   ]
  },
  {
   "cell_type": "code",
   "execution_count": null,
   "id": "918b00db",
   "metadata": {},
   "outputs": [],
   "source": [
    "# extracting the auth code from the response url\n",
    "code = re.split('&code=', authorization_response)[1]\n",
    "code"
   ]
  },
  {
   "cell_type": "markdown",
   "id": "7a965c0d",
   "metadata": {},
   "source": [
    "## 7. The POST Request to Exchange the Auth Code with the Access Token"
   ]
  },
  {
   "cell_type": "code",
   "execution_count": null,
   "id": "1b1eafee",
   "metadata": {},
   "outputs": [],
   "source": [
    "headers = {\n",
    "    'Content-Type' : 'application/x-www-form-urlencoded',\n",
    "    'Authorization' : client_id_secret\n",
    "}"
   ]
  },
  {
   "cell_type": "code",
   "execution_count": null,
   "id": "9879e99a",
   "metadata": {},
   "outputs": [],
   "source": [
    "data = {'code' : code, 'grant_type' : grant_type, 'redirect_uri' : redirect_uri, 'code_verifier' : code_verifier}"
   ]
  },
  {
   "cell_type": "code",
   "execution_count": null,
   "id": "3c996314",
   "metadata": {
    "scrolled": true
   },
   "outputs": [],
   "source": [
    "response = r.post(\n",
    "    token_url, \n",
    "    data = data,\n",
    "    headers = headers,\n",
    ")\n",
    "\n",
    "if response.status_code == 200:\n",
    "    print('Successfully connected!', 'Status Code:', response.status_code)\n",
    "else:\n",
    "    print('Something went wrong!', 'Status Code: ', response.status_code)"
   ]
  },
  {
   "cell_type": "markdown",
   "id": "44920524",
   "metadata": {},
   "source": [
    "## 8. Extracting the Access and Refresh Tokens from the Response"
   ]
  },
  {
   "cell_type": "code",
   "execution_count": null,
   "id": "c032a548",
   "metadata": {},
   "outputs": [],
   "source": [
    "# converting the format of the response from bytes to string\n",
    "response_json = response.content.decode('utf8')"
   ]
  },
  {
   "cell_type": "code",
   "execution_count": null,
   "id": "20fdd7f5",
   "metadata": {},
   "outputs": [],
   "source": [
    "# converting a json string to a python string\n",
    "response_json_formatted = json.loads(response_json)"
   ]
  },
  {
   "cell_type": "code",
   "execution_count": null,
   "id": "3198dc7f",
   "metadata": {
    "scrolled": true
   },
   "outputs": [],
   "source": [
    "# assigning the tokens to variables\n",
    "access_token = response_json_formatted['access_token']\n",
    "refresh_token = response_json_formatted['refresh_token']\n",
    "print('access_token:\\n', access_token)\n",
    "print('refresh_token:\\n', refresh_token)"
   ]
  }
 ],
 "metadata": {
  "kernelspec": {
   "display_name": "Python 3 (ipykernel)",
   "language": "python",
   "name": "python3"
  },
  "language_info": {
   "codemirror_mode": {
    "name": "ipython",
    "version": 3
   },
   "file_extension": ".py",
   "mimetype": "text/x-python",
   "name": "python",
   "nbconvert_exporter": "python",
   "pygments_lexer": "ipython3",
   "version": "3.9.12"
  }
 },
 "nbformat": 4,
 "nbformat_minor": 5
}
