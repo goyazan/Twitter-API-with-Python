{
 "cells": [
  {
   "cell_type": "markdown",
   "id": "1fd26dc4",
   "metadata": {},
   "source": [
    "The Official Twitter API documentation on the access token endpoint: <br>\n",
    "*https://developer.twitter.com/en/docs/authentication/oauth-2-0/user-access-token*"
   ]
  },
  {
   "cell_type": "markdown",
   "id": "9529ab4b",
   "metadata": {},
   "source": [
    "## 1. Importing Modules"
   ]
  },
  {
   "cell_type": "code",
   "execution_count": null,
   "id": "3351436e",
   "metadata": {
    "scrolled": true
   },
   "outputs": [],
   "source": [
    "import requests as r\n",
    "import os\n",
    "from dotenv import load_dotenv\n",
    "import base64\n",
    "import json"
   ]
  },
  {
   "cell_type": "code",
   "execution_count": null,
   "id": "4dac9208",
   "metadata": {},
   "outputs": [],
   "source": [
    "# reading the contents of the .env file stored in the notebook's folder\n",
    "load_dotenv()"
   ]
  },
  {
   "cell_type": "markdown",
   "id": "240ac053",
   "metadata": {},
   "source": [
    "## 2. Assigning the Request Parameters to Variables"
   ]
  },
  {
   "cell_type": "code",
   "execution_count": null,
   "id": "f6cd2d24",
   "metadata": {},
   "outputs": [],
   "source": [
    "token_url = 'https://api.twitter.com/2/oauth2/token'"
   ]
  },
  {
   "cell_type": "code",
   "execution_count": null,
   "id": "0ea9e335",
   "metadata": {},
   "outputs": [],
   "source": [
    "client_id = os.getenv('client_id')\n",
    "client_secret = os.getenv('client_secret')\n",
    "\n",
    "client_id_secret = client_id + ':' + client_secret\n",
    "client_id_secret = client_id_secret.encode(\"ascii\")\n",
    "client_id_secret = 'Basic ' + base64.b64encode(client_id_secret).decode(\"ascii\")\n",
    "\n",
    "refresh_token = os.getenv('refresh_token')"
   ]
  },
  {
   "cell_type": "code",
   "execution_count": null,
   "id": "1ad4de2d",
   "metadata": {},
   "outputs": [],
   "source": [
    "grant_type = 'refresh_token'"
   ]
  },
  {
   "cell_type": "code",
   "execution_count": null,
   "id": "1b1eafee",
   "metadata": {},
   "outputs": [],
   "source": [
    "headers = {\n",
    "    'Content-Type' : 'application/x-www-form-urlencoded',\n",
    "    'Authorization' : client_id_secret\n",
    "}"
   ]
  },
  {
   "cell_type": "code",
   "execution_count": null,
   "id": "9879e99a",
   "metadata": {},
   "outputs": [],
   "source": [
    "data = {'grant_type' : grant_type, 'refresh_token' : refresh_token}"
   ]
  },
  {
   "cell_type": "markdown",
   "id": "1f8cba17",
   "metadata": {},
   "source": [
    "## 3. The POST Request to Get the Access & Refresh Tokens"
   ]
  },
  {
   "cell_type": "code",
   "execution_count": null,
   "id": "3c996314",
   "metadata": {
    "scrolled": true
   },
   "outputs": [],
   "source": [
    "response = r.post(\n",
    "    token_url, \n",
    "    data = data,\n",
    "    headers = headers,\n",
    ")\n",
    "\n",
    "if response.status_code == 200:\n",
    "    print('Successfully connected!', 'Status Code:', response.status_code)\n",
    "else:\n",
    "    print('Something went wrong!', 'Status Code: ', response.status_code)"
   ]
  },
  {
   "cell_type": "markdown",
   "id": "44920524",
   "metadata": {},
   "source": [
    "## 4. Extracting the Access and Refresh Tokens from the Response"
   ]
  },
  {
   "cell_type": "code",
   "execution_count": null,
   "id": "7bfbe38d",
   "metadata": {},
   "outputs": [],
   "source": [
    "# converting the format of the response from bytes to string\n",
    "response_json = response.content.decode('utf8')"
   ]
  },
  {
   "cell_type": "code",
   "execution_count": null,
   "id": "72b9333a",
   "metadata": {},
   "outputs": [],
   "source": [
    "# converting a json string to a python string\n",
    "response_json_formatted = json.loads(response_json)"
   ]
  },
  {
   "cell_type": "code",
   "execution_count": null,
   "id": "e513bd88",
   "metadata": {},
   "outputs": [],
   "source": [
    "# assigning the tokens to variables\n",
    "access_token = response_json_formatted['access_token']\n",
    "refresh_token = response_json_formatted['refresh_token']\n",
    "print('access_token:\\n', access_token)\n",
    "print('refresh_token:\\n', refresh_token)"
   ]
  }
 ],
 "metadata": {
  "kernelspec": {
   "display_name": "Python 3 (ipykernel)",
   "language": "python",
   "name": "python3"
  },
  "language_info": {
   "codemirror_mode": {
    "name": "ipython",
    "version": 3
   },
   "file_extension": ".py",
   "mimetype": "text/x-python",
   "name": "python",
   "nbconvert_exporter": "python",
   "pygments_lexer": "ipython3",
   "version": "3.9.12"
  }
 },
 "nbformat": 4,
 "nbformat_minor": 5
}
