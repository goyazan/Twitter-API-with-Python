{
 "cells": [
  {
   "cell_type": "markdown",
   "id": "21c3114f",
   "metadata": {},
   "source": [
    "The official Twitter API documentation on the requested endpoints: <br>\n",
    "*https://developer.twitter.com/en/docs/twitter-api/users/lookup/api-reference/get-users-me* <br>\n",
    "*https://developer.twitter.com/en/docs/twitter-api/tweets/timelines/api-reference/get-users-id-reverse-chronological*"
   ]
  },
  {
   "cell_type": "markdown",
   "id": "9529ab4b",
   "metadata": {},
   "source": [
    "## 1. Importing Modules"
   ]
  },
  {
   "cell_type": "code",
   "execution_count": null,
   "id": "80b22a5f",
   "metadata": {},
   "outputs": [],
   "source": [
    "import requests as r\n",
    "import os\n",
    "import json\n",
    "from dotenv import load_dotenv\n",
    "import base64\n",
    "import pandas as pd"
   ]
  },
  {
   "cell_type": "code",
   "execution_count": null,
   "id": "cc3a284d",
   "metadata": {},
   "outputs": [],
   "source": [
    "# reading the contents of the .env file stored in the notebook's folder\n",
    "load_dotenv()\n",
    "\n",
    "# this setting will make all the 100 records of the dataframe visible when printed\n",
    "pd.set_option('display.max_rows', 100) "
   ]
  },
  {
   "cell_type": "markdown",
   "id": "240ac053",
   "metadata": {},
   "source": [
    "## 2. Assigning the Request Parameters to Variables"
   ]
  },
  {
   "cell_type": "code",
   "execution_count": null,
   "id": "c6b03aaf",
   "metadata": {},
   "outputs": [],
   "source": [
    "endpoint_user = 'https://api.twitter.com/2/users/me'"
   ]
  },
  {
   "cell_type": "code",
   "execution_count": null,
   "id": "3ccf7e7b",
   "metadata": {},
   "outputs": [],
   "source": [
    "access_token = os.getenv('access_token_oauth2')\n",
    "access_token = 'Bearer ' + access_token"
   ]
  },
  {
   "cell_type": "code",
   "execution_count": null,
   "id": "adca5a45",
   "metadata": {},
   "outputs": [],
   "source": [
    "headers = {'Authorization' : access_token}"
   ]
  },
  {
   "cell_type": "markdown",
   "id": "1f8cba17",
   "metadata": {},
   "source": [
    "## 3. The GET Request to Return the User Info"
   ]
  },
  {
   "cell_type": "code",
   "execution_count": null,
   "id": "8c8282d1",
   "metadata": {},
   "outputs": [],
   "source": [
    "response_user = r.get(endpoint_user, headers = headers)\n",
    "\n",
    "if response_user.status_code == 200:\n",
    "    print('Successfully connected!', 'Status Code:', response_user.status_code)\n",
    "else:\n",
    "    print('Something went wrong!', 'Status Code: ', response_user.status_code)"
   ]
  },
  {
   "cell_type": "markdown",
   "id": "c97074e3",
   "metadata": {},
   "source": [
    "## 4. Converting the Response Output to a Python Object"
   ]
  },
  {
   "cell_type": "code",
   "execution_count": null,
   "id": "2795c7f4",
   "metadata": {
    "scrolled": true
   },
   "outputs": [],
   "source": [
    "# bytes to string\n",
    "response_json = response_user.content.decode('utf8')\n",
    "\n",
    "# json string to python object\n",
    "response_json_formatted = json.loads(response_json)"
   ]
  },
  {
   "cell_type": "markdown",
   "id": "c911d13a",
   "metadata": {},
   "source": [
    "## 5. Extracting the User Info from the Response"
   ]
  },
  {
   "cell_type": "code",
   "execution_count": null,
   "id": "1530403c",
   "metadata": {},
   "outputs": [],
   "source": [
    "user_id = response_json_formatted['data']['id']\n",
    "name = response_json_formatted['data']['name']\n",
    "username = response_json_formatted['data']['username']\n",
    "\n",
    "print('User ID:', user_id)\n",
    "print('Name:', name)\n",
    "print('Username:', username)"
   ]
  },
  {
   "cell_type": "markdown",
   "id": "27444162",
   "metadata": {},
   "source": [
    "##  6. A GET Request to Import the User's Timeline"
   ]
  },
  {
   "cell_type": "code",
   "execution_count": null,
   "id": "de86c7b3",
   "metadata": {},
   "outputs": [],
   "source": [
    "endpoint_timeline = 'https://api.twitter.com/2/users/' + user_id + '/timelines/reverse_chronological'"
   ]
  },
  {
   "cell_type": "code",
   "execution_count": null,
   "id": "d30624fa",
   "metadata": {},
   "outputs": [],
   "source": [
    "# the request parameters\n",
    "\n",
    "max_results = 100\n",
    "\n",
    "tweet_fields = 'author_id,context_annotations,created_at,entities,geo,id,in_reply_to_user_id,lang,public_metrics,possibly_sensitive,referenced_tweets,reply_settings,source,text,withheld'\n",
    "\n",
    "user_fields = 'created_at,description,entities,id,location,name,pinned_tweet_id,profile_image_url,protected,public_metrics,url,username,verified,withheld'\n",
    "\n",
    "place_fields = 'contained_within,country,country_code,full_name,geo,id,name,place_type'\n",
    "\n",
    "expansions = 'attachments.media_keys,author_id,entities.mentions.username,geo.place_id,in_reply_to_user_id,referenced_tweets.id,referenced_tweets.id.author_id'\n",
    "\n",
    "params = {\n",
    "    'max_results' : max_results,\n",
    "    'tweet.fields' : tweet_fields,\n",
    "    'user.fields' : user_fields,\n",
    "    'place.fields' : place_fields,\n",
    "    'expansions' : expansions\n",
    "}"
   ]
  },
  {
   "cell_type": "code",
   "execution_count": null,
   "id": "b48c7f91",
   "metadata": {},
   "outputs": [],
   "source": [
    "response_timeline = r.get(endpoint_timeline, headers = headers, params = params).json()"
   ]
  },
  {
   "cell_type": "markdown",
   "id": "36f5761e",
   "metadata": {},
   "source": [
    "## 7. Converting the Output to a Python Object"
   ]
  },
  {
   "cell_type": "code",
   "execution_count": null,
   "id": "cbe6ecaa",
   "metadata": {
    "scrolled": false
   },
   "outputs": [],
   "source": [
    "# returning the contents of the response\n",
    "data_json = response_timeline['data']\n",
    "\n",
    "# converts the contents to a pandas dataframe\n",
    "data_raw = pd.json_normalize(data_json)\n",
    "\n",
    "# changing the default index to the 'id' column\n",
    "data_raw.set_index('id', inplace = True)"
   ]
  },
  {
   "cell_type": "markdown",
   "id": "6888fc90",
   "metadata": {},
   "source": [
    "##  8. Creating a Copy of the DF to Keep the Original Version Untouched"
   ]
  },
  {
   "cell_type": "code",
   "execution_count": null,
   "id": "93afacc0",
   "metadata": {},
   "outputs": [],
   "source": [
    "data = data_raw.copy()"
   ]
  },
  {
   "cell_type": "markdown",
   "id": "bdba3801",
   "metadata": {},
   "source": [
    "## 9. Deleting / Renaming Columns"
   ]
  },
  {
   "cell_type": "code",
   "execution_count": null,
   "id": "2900383f",
   "metadata": {},
   "outputs": [],
   "source": [
    "data.drop(\n",
    "    [\n",
    "    'reply_settings',\n",
    "    'attachments.media_keys', \n",
    "    'referenced_tweets', \n",
    "    'in_reply_to_user_id', \n",
    "    'context_annotations',\n",
    "    'entities.urls',\n",
    "    'entities.annotations',\n",
    "    'entities.mentions',\n",
    "    'entities.hashtags'\n",
    "    ], \n",
    "    axis = 1,\n",
    "    inplace = True\n",
    ")\n",
    "\n",
    "data.head(1)"
   ]
  },
  {
   "cell_type": "code",
   "execution_count": null,
   "id": "19baa51c",
   "metadata": {},
   "outputs": [],
   "source": [
    "data = data.rename(\n",
    "    columns = {\n",
    "        'public_metrics.retweet_count':'retweet_count',\n",
    "        'public_metrics.reply_count':'reply_count', \n",
    "        'public_metrics.like_count':'like_count', \n",
    "        'statistics.favoriteCount':'favorite_count', \n",
    "        'public_metrics.quote_count':'quote_count'\n",
    "    }\n",
    ")\n",
    "\n",
    "data.head(1)"
   ]
  },
  {
   "cell_type": "markdown",
   "id": "31743ae2",
   "metadata": {},
   "source": [
    "## 10. Iterating Through the JSON to Extract the Nested URL Column"
   ]
  },
  {
   "cell_type": "code",
   "execution_count": null,
   "id": "2aed9082",
   "metadata": {},
   "outputs": [],
   "source": [
    "entities_expanded_url = []\n",
    "\n",
    "for i in data_json:\n",
    "    try:\n",
    "        x = i['entities']['urls'][0]['display_url']\n",
    "        entities_expanded_url.append(x)\n",
    "    except:\n",
    "        entities_expanded_url.append('NaN')"
   ]
  },
  {
   "cell_type": "markdown",
   "id": "5427b5c5",
   "metadata": {},
   "source": [
    "## 11. Appending the Extracted Into to the Dataframe"
   ]
  },
  {
   "cell_type": "code",
   "execution_count": null,
   "id": "673fcc69",
   "metadata": {
    "scrolled": true
   },
   "outputs": [],
   "source": [
    "data['url'] = entities_expanded_url"
   ]
  },
  {
   "cell_type": "markdown",
   "id": "5e6a20cd",
   "metadata": {},
   "source": [
    "## 12. Checking and Fixing the Data Types"
   ]
  },
  {
   "cell_type": "code",
   "execution_count": null,
   "id": "666713f6",
   "metadata": {},
   "outputs": [],
   "source": [
    "data.info()"
   ]
  },
  {
   "cell_type": "code",
   "execution_count": null,
   "id": "aa6729fd",
   "metadata": {},
   "outputs": [],
   "source": [
    "# changing the 'created_at' column's data type to make it a date column\n",
    "data['created_at'] = data['created_at'].astype('datetime64[ns]')"
   ]
  }
 ],
 "metadata": {
  "kernelspec": {
   "display_name": "Python 3 (ipykernel)",
   "language": "python",
   "name": "python3"
  },
  "language_info": {
   "codemirror_mode": {
    "name": "ipython",
    "version": 3
   },
   "file_extension": ".py",
   "mimetype": "text/x-python",
   "name": "python",
   "nbconvert_exporter": "python",
   "pygments_lexer": "ipython3",
   "version": "3.9.12"
  }
 },
 "nbformat": 4,
 "nbformat_minor": 5
}
